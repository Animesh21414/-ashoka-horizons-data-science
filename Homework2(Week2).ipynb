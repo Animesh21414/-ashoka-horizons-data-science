{
 "cells": [
  {
   "cell_type": "code",
   "execution_count": 1,
   "metadata": {},
   "outputs": [
    {
     "name": "stdout",
     "output_type": "stream",
     "text": [
      "Requirement already satisfied: pandas in /home/animesh/miniconda3/envs/Animesh/lib/python3.9/site-packages (2.2.2)\n",
      "Requirement already satisfied: numpy>=1.22.4 in /home/animesh/miniconda3/envs/Animesh/lib/python3.9/site-packages (from pandas) (1.26.4)\n",
      "Requirement already satisfied: python-dateutil>=2.8.2 in /home/animesh/miniconda3/envs/Animesh/lib/python3.9/site-packages (from pandas) (2.9.0)\n",
      "Requirement already satisfied: pytz>=2020.1 in /home/animesh/miniconda3/envs/Animesh/lib/python3.9/site-packages (from pandas) (2024.1)\n",
      "Requirement already satisfied: tzdata>=2022.7 in /home/animesh/miniconda3/envs/Animesh/lib/python3.9/site-packages (from pandas) (2024.1)\n",
      "Requirement already satisfied: six>=1.5 in /home/animesh/miniconda3/envs/Animesh/lib/python3.9/site-packages (from python-dateutil>=2.8.2->pandas) (1.16.0)\n",
      "Requirement already satisfied: numpy in /home/animesh/miniconda3/envs/Animesh/lib/python3.9/site-packages (1.26.4)\n"
     ]
    }
   ],
   "source": [
    "!pip install pandas\n",
    "!pip install numpy "
   ]
  },
  {
   "cell_type": "code",
   "execution_count": 5,
   "metadata": {},
   "outputs": [],
   "source": [
    "import pandas as pd\n",
    "import numpy as np # For handling arrays"
   ]
  },
  {
   "cell_type": "code",
   "execution_count": 6,
   "metadata": {},
   "outputs": [],
   "source": [
    "df = pd.read_csv('nutrition-food.csv', encoding='UTF-16')"
   ]
  },
  {
   "cell_type": "code",
   "execution_count": 7,
   "metadata": {},
   "outputs": [
    {
     "data": {
      "text/html": [
       "<div>\n",
       "<style scoped>\n",
       "    .dataframe tbody tr th:only-of-type {\n",
       "        vertical-align: middle;\n",
       "    }\n",
       "\n",
       "    .dataframe tbody tr th {\n",
       "        vertical-align: top;\n",
       "    }\n",
       "\n",
       "    .dataframe thead th {\n",
       "        text-align: right;\n",
       "    }\n",
       "</style>\n",
       "<table border=\"1\" class=\"dataframe\">\n",
       "  <thead>\n",
       "    <tr style=\"text-align: right;\">\n",
       "      <th></th>\n",
       "      <th>Name</th>\n",
       "      <th>Calories</th>\n",
       "      <th>Fat (g)</th>\n",
       "      <th>Carb. (g)</th>\n",
       "      <th>Fiber (g)</th>\n",
       "      <th>Protein (g)</th>\n",
       "    </tr>\n",
       "  </thead>\n",
       "  <tbody>\n",
       "    <tr>\n",
       "      <th>0</th>\n",
       "      <td>Chonga Bagel</td>\n",
       "      <td>300</td>\n",
       "      <td>5.0</td>\n",
       "      <td>50</td>\n",
       "      <td>3</td>\n",
       "      <td>12</td>\n",
       "    </tr>\n",
       "    <tr>\n",
       "      <th>1</th>\n",
       "      <td>8-Grain Roll</td>\n",
       "      <td>380</td>\n",
       "      <td>6.0</td>\n",
       "      <td>70</td>\n",
       "      <td>7</td>\n",
       "      <td>10</td>\n",
       "    </tr>\n",
       "    <tr>\n",
       "      <th>2</th>\n",
       "      <td>Almond Croissant</td>\n",
       "      <td>410</td>\n",
       "      <td>22.0</td>\n",
       "      <td>45</td>\n",
       "      <td>3</td>\n",
       "      <td>10</td>\n",
       "    </tr>\n",
       "    <tr>\n",
       "      <th>3</th>\n",
       "      <td>Apple Fritter</td>\n",
       "      <td>460</td>\n",
       "      <td>23.0</td>\n",
       "      <td>56</td>\n",
       "      <td>2</td>\n",
       "      <td>7</td>\n",
       "    </tr>\n",
       "    <tr>\n",
       "      <th>4</th>\n",
       "      <td>Banana Nut Bread</td>\n",
       "      <td>420</td>\n",
       "      <td>22.0</td>\n",
       "      <td>52</td>\n",
       "      <td>2</td>\n",
       "      <td>6</td>\n",
       "    </tr>\n",
       "  </tbody>\n",
       "</table>\n",
       "</div>"
      ],
      "text/plain": [
       "               Name   Calories   Fat (g)   Carb. (g)   Fiber (g)   Protein (g)\n",
       "0      Chonga Bagel        300       5.0          50           3            12\n",
       "1      8-Grain Roll        380       6.0          70           7            10\n",
       "2  Almond Croissant        410      22.0          45           3            10\n",
       "3     Apple Fritter        460      23.0          56           2             7\n",
       "4  Banana Nut Bread        420      22.0          52           2             6"
      ]
     },
     "execution_count": 7,
     "metadata": {},
     "output_type": "execute_result"
    }
   ],
   "source": [
    "df.head(5)"
   ]
  },
  {
   "cell_type": "code",
   "execution_count": 8,
   "metadata": {},
   "outputs": [
    {
     "data": {
      "text/html": [
       "<div>\n",
       "<style scoped>\n",
       "    .dataframe tbody tr th:only-of-type {\n",
       "        vertical-align: middle;\n",
       "    }\n",
       "\n",
       "    .dataframe tbody tr th {\n",
       "        vertical-align: top;\n",
       "    }\n",
       "\n",
       "    .dataframe thead th {\n",
       "        text-align: right;\n",
       "    }\n",
       "</style>\n",
       "<table border=\"1\" class=\"dataframe\">\n",
       "  <thead>\n",
       "    <tr style=\"text-align: right;\">\n",
       "      <th></th>\n",
       "      <th>Name</th>\n",
       "      <th>Calories</th>\n",
       "      <th>Fat (g)</th>\n",
       "      <th>Carb. (g)</th>\n",
       "      <th>Fiber (g)</th>\n",
       "      <th>Protein (g)</th>\n",
       "    </tr>\n",
       "  </thead>\n",
       "  <tbody>\n",
       "    <tr>\n",
       "      <th>108</th>\n",
       "      <td>Justin's Chocolate Hazelnut Butter</td>\n",
       "      <td>180</td>\n",
       "      <td>14.0</td>\n",
       "      <td>12</td>\n",
       "      <td>3</td>\n",
       "      <td>4</td>\n",
       "    </tr>\n",
       "    <tr>\n",
       "      <th>109</th>\n",
       "      <td>Justin's Classic Almond Butter</td>\n",
       "      <td>190</td>\n",
       "      <td>18.0</td>\n",
       "      <td>6</td>\n",
       "      <td>3</td>\n",
       "      <td>7</td>\n",
       "    </tr>\n",
       "    <tr>\n",
       "      <th>110</th>\n",
       "      <td>Lemon Chiffon Yogurt</td>\n",
       "      <td>340</td>\n",
       "      <td>13.0</td>\n",
       "      <td>38</td>\n",
       "      <td>0</td>\n",
       "      <td>18</td>\n",
       "    </tr>\n",
       "    <tr>\n",
       "      <th>111</th>\n",
       "      <td>Organic Avocado (Spread)</td>\n",
       "      <td>90</td>\n",
       "      <td>8.0</td>\n",
       "      <td>5</td>\n",
       "      <td>4</td>\n",
       "      <td>1</td>\n",
       "    </tr>\n",
       "    <tr>\n",
       "      <th>112</th>\n",
       "      <td>Seasonal Fruit Blend</td>\n",
       "      <td>90</td>\n",
       "      <td>0.0</td>\n",
       "      <td>24</td>\n",
       "      <td>4</td>\n",
       "      <td>1</td>\n",
       "    </tr>\n",
       "  </tbody>\n",
       "</table>\n",
       "</div>"
      ],
      "text/plain": [
       "                                   Name   Calories   Fat (g)   Carb. (g)  \\\n",
       "108  Justin's Chocolate Hazelnut Butter        180      14.0          12   \n",
       "109      Justin's Classic Almond Butter        190      18.0           6   \n",
       "110                Lemon Chiffon Yogurt        340      13.0          38   \n",
       "111            Organic Avocado (Spread)         90       8.0           5   \n",
       "112                Seasonal Fruit Blend         90       0.0          24   \n",
       "\n",
       "      Fiber (g)   Protein (g)  \n",
       "108           3             4  \n",
       "109           3             7  \n",
       "110           0            18  \n",
       "111           4             1  \n",
       "112           4             1  "
      ]
     },
     "execution_count": 8,
     "metadata": {},
     "output_type": "execute_result"
    }
   ],
   "source": [
    "df.tail(5)"
   ]
  },
  {
   "cell_type": "code",
   "execution_count": 9,
   "metadata": {},
   "outputs": [
    {
     "data": {
      "text/plain": [
       "(113, 6)"
      ]
     },
     "execution_count": 9,
     "metadata": {},
     "output_type": "execute_result"
    }
   ],
   "source": [
    "df.shape"
   ]
  },
  {
   "cell_type": "code",
   "execution_count": null,
   "metadata": {},
   "outputs": [],
   "source": [
    "113 rows and 6 columns"
   ]
  },
  {
   "cell_type": "code",
   "execution_count": 11,
   "metadata": {},
   "outputs": [
    {
     "data": {
      "text/plain": [
       "44"
      ]
     },
     "execution_count": 11,
     "metadata": {},
     "output_type": "execute_result"
    }
   ],
   "source": [
    "df[' Calories'].nunique()"
   ]
  },
  {
   "cell_type": "code",
   "execution_count": 12,
   "metadata": {},
   "outputs": [
    {
     "data": {
      "text/plain": [
       "49"
      ]
     },
     "execution_count": 12,
     "metadata": {},
     "output_type": "execute_result"
    }
   ],
   "source": [
    "df[' Carb. (g)'].nunique()"
   ]
  },
  {
   "cell_type": "code",
   "execution_count": 13,
   "metadata": {},
   "outputs": [
    {
     "data": {
      "text/plain": [
       "35"
      ]
     },
     "execution_count": 13,
     "metadata": {},
     "output_type": "execute_result"
    }
   ],
   "source": [
    "df[' Fat (g)'].nunique()"
   ]
  },
  {
   "cell_type": "code",
   "execution_count": 14,
   "metadata": {},
   "outputs": [
    {
     "data": {
      "text/plain": [
       "13"
      ]
     },
     "execution_count": 14,
     "metadata": {},
     "output_type": "execute_result"
    }
   ],
   "source": [
    "df[' Fiber (g)'].nunique()"
   ]
  },
  {
   "cell_type": "code",
   "execution_count": 15,
   "metadata": {},
   "outputs": [
    {
     "data": {
      "text/plain": [
       "29"
      ]
     },
     "execution_count": 15,
     "metadata": {},
     "output_type": "execute_result"
    }
   ],
   "source": [
    "df[' Protein (g)'].nunique()"
   ]
  },
  {
   "cell_type": "code",
   "execution_count": 16,
   "metadata": {},
   "outputs": [
    {
     "data": {
      "text/plain": [
       "113"
      ]
     },
     "execution_count": 16,
     "metadata": {},
     "output_type": "execute_result"
    }
   ],
   "source": [
    "df['Name'].nunique()"
   ]
  },
  {
   "cell_type": "code",
   "execution_count": 17,
   "metadata": {},
   "outputs": [
    {
     "data": {
      "text/plain": [
       "array([300, 380, 410, 460, 420, 240, 350, 320, 170, 310, 440, 330, 390,\n",
       "       490, 270, 360, 430, 100, 290,  90, 200, 250, 470, 480, 120, 280,\n",
       "       370, 180, 600, 130, 620, 530, 500, 560, 570, 450, 520, 160, 220,\n",
       "       230, 510, 650, 190, 340])"
      ]
     },
     "execution_count": 17,
     "metadata": {},
     "output_type": "execute_result"
    }
   ],
   "source": [
    "df[' Calories'].unique() "
   ]
  },
  {
   "cell_type": "code",
   "execution_count": 18,
   "metadata": {},
   "outputs": [
    {
     "data": {
      "text/plain": [
       "array([50, 70, 45, 56, 52, 53, 61, 28, 38, 36, 30, 42, 60, 43, 64, 58, 57,\n",
       "       46, 55, 54, 14, 29, 68, 47, 40, 39, 18, 63, 67, 44, 23, 27, 80, 34,\n",
       "       33,  7,  9, 62, 31, 49, 24, 32, 41, 13, 35, 37, 12,  6,  5])"
      ]
     },
     "execution_count": 18,
     "metadata": {},
     "output_type": "execute_result"
    }
   ],
   "source": [
    "df[' Carb. (g)'].unique() "
   ]
  },
  {
   "cell_type": "code",
   "execution_count": 19,
   "metadata": {},
   "outputs": [
    {
     "data": {
      "text/plain": [
       "array([ 5. ,  6. , 22. , 23. , 16. , 17. , 12. , 15. , 21. , 18. , 24. ,\n",
       "        1. , 28. ,  3.5,  3. ,  8. , 14. , 20. , 10. ,  4. , 27. ,  4.5,\n",
       "        1.5,  9. , 13. , 25. , 29. , 37. ,  7. , 26. , 32. , 19. ,  2.5,\n",
       "       30. ,  0. ])"
      ]
     },
     "execution_count": 19,
     "metadata": {},
     "output_type": "execute_result"
    }
   ],
   "source": [
    "df[' Fat (g)'].unique() "
   ]
  },
  {
   "cell_type": "code",
   "execution_count": 20,
   "metadata": {},
   "outputs": [
    {
     "data": {
      "text/plain": [
       "array([ 3,  7,  2,  1,  0,  8, 10,  4,  6, 11,  5,  9, 21])"
      ]
     },
     "execution_count": 20,
     "metadata": {},
     "output_type": "execute_result"
    }
   ],
   "source": [
    "df[' Fiber (g)'].unique() "
   ]
  },
  {
   "cell_type": "code",
   "execution_count": 21,
   "metadata": {},
   "outputs": [
    {
     "data": {
      "text/plain": [
       "array([12, 10,  7,  6,  5,  2,  8,  4,  9,  3, 11,  1, 17, 19, 21, 13, 22,\n",
       "       32, 23, 16, 18, 24, 27, 20, 14, 15, 26, 29, 34])"
      ]
     },
     "execution_count": 21,
     "metadata": {},
     "output_type": "execute_result"
    }
   ],
   "source": [
    "df[' Protein (g)'].unique() "
   ]
  },
  {
   "cell_type": "code",
   "execution_count": 22,
   "metadata": {},
   "outputs": [
    {
     "data": {
      "text/plain": [
       "array(['Chonga Bagel', '8-Grain Roll', 'Almond Croissant',\n",
       "       'Apple Fritter', 'Banana Nut Bread',\n",
       "       'Blueberry Muffin with Yogurt and Honey', 'Blueberry Scone',\n",
       "       'Butter Croissant', 'Butterfly Cookie', 'Cheese Danish',\n",
       "       'Chewy Chocolate Cookie', 'Chocolate Chip Cookie',\n",
       "       'Chocolate Chunk Muffin', 'Chocolate Croissant',\n",
       "       'Chocolate Hazelnut Croissant', 'Chocolate Marble Loaf Cake',\n",
       "       'Cinnamon Morning Bun', 'Cinnamon Raisin Bagel',\n",
       "       'Classic Coffee Cake', 'Cookie Butter Bar',\n",
       "       'Cranberry Orange Scone', \"Devil's Food Doughnut\",\n",
       "       'Double Chocolate Brownie', 'Double Chocolate Chunk Brownie',\n",
       "       'Double Chocolate Loaf Cake',\n",
       "       \"Everybody's Favorite - Bantam Bagel (2 Pack)\",\n",
       "       'Everything Bagel with Cheese', 'Frappuccino Cookie Straw',\n",
       "       'French Toast - Bantam Bagels (2 Pack)',\n",
       "       'Gluten-Free Marshmallow Dream Bar', 'Ice Cream Cone Sugar Cookie',\n",
       "       'Iced Lemon Pound Cake', 'Michigan Cherry Oat Bar',\n",
       "       'Multigrain Bagel', 'Oatmeal Cookie', 'Octopus Cookie',\n",
       "       'Old-Fashioned Glazed Doughnut', 'Peanut butter cup cookie',\n",
       "       'Pecan Tart', 'Petite Vanilla Bean Scone', 'Plain Bagel',\n",
       "       'Pumpkin Bread', 'Raspberry Swirl Loaf Cake',\n",
       "       'Raspberry Whoopie Pie', 'Reduced-Fat Cinnamon Swirl Coffee Cake',\n",
       "       \"S'mores Bar\", \"S'mores Bar Multipack\",\n",
       "       'Sprouted Grain Vegan Bagel', 'Strawberry Cake Pop',\n",
       "       'The Classic - Bantam Bagels (2 Pack)', 'Toffeedoodle',\n",
       "       'Vanilla Bean Whoopie Pie', 'Vermont Maple Walnut Muffin',\n",
       "       'Volpi™ Pepperoni & Tomato Savory Foldover',\n",
       "       'Strawberries & Jam Sandwich',\n",
       "       'Burrata & Basil Pesto Small Sandwich',\n",
       "       'Cage-Free Eggs & Seasoned Grains Side Salad',\n",
       "       'Cauliflower Tabbouleh Side Salad', 'Cubano Sandwich',\n",
       "       \"Farmers' Market Protein Box\",\n",
       "       'Garden Greens & Shaved Parmesan Side Salad',\n",
       "       'Green Goddess Avocado Salad',\n",
       "       'Herbed Chicken & Fig Spread Small Sandwich',\n",
       "       'Honey BBQ Sriracha Chicken Sandwich',\n",
       "       'Roasted Carrot & Kale Side Salad',\n",
       "       'Roasted Turkey & Dill Havarti Sandwich',\n",
       "       'Seared Steak & Cheddar Sandwich',\n",
       "       \"Slow-Roasted Ham & Beecher's Flagship Cheese Small Sandwich\",\n",
       "       'Smoked Mozzarella & Roasted Pepper Sandwich',\n",
       "       'Turkey & Fire-Roasted Corn Salad',\n",
       "       \"Za'atar Chicken & Lemon Tahini Salad\", 'BBQ Chicken Protein Box',\n",
       "       'Cheese & Fruit Protein Box', 'Chicken Wrap Protein Box',\n",
       "       'Eggs & Cheese Protein Box', 'PB&J Protein Box',\n",
       "       'Smoked Turkey Protein Box', 'Birthday Cake Pop',\n",
       "       'Chocolate Cake Pop', 'Chocolate Chip Cookie Dough Cake Pop',\n",
       "       'Pirate Cake Pop', 'Bacon Gouda & Egg Breakfast Sandwich',\n",
       "       'Certified Gluten-Free Breakfast Sandwich',\n",
       "       'Classic Whole-Grain Oatmeal',\n",
       "       'Double-Smoked Bacon Cheddar & Egg Sandwich',\n",
       "       'Ham & Cheese Croissant', 'Hearty Blueberry Oatmeal',\n",
       "       'Reduced-Fat Turkey Bacon & Cage Free Egg White Breakfast Sandwich',\n",
       "       'Sausage Cheddar & Egg Breakfast Sandwich',\n",
       "       'Seared Steak Egg & Tomatillo Wrap',\n",
       "       'Slow-Roasted Ham Swiss & Egg Breakfast Sandwich',\n",
       "       'Sous Vide Egg Bites: Bacon & Gruyere',\n",
       "       'Sous Vide Egg Bites: Egg White & Red Pepper',\n",
       "       'Spicy Chorizo  Monterey Jack & Egg Breakfast Sandwich',\n",
       "       'Spinach Feta & Cage Free Egg White Breakfast Wrap',\n",
       "       'Ancho Chipotle Chicken Panini ',\n",
       "       'Chicken & Quinoa Protein Bowl with Black Beans and Greens',\n",
       "       'Chicken Artichoke on Ancient Grain Flatbread',\n",
       "       'Chicken BLT Salad Sandwich', 'Egg Salad Sandwich',\n",
       "       'Homestyle Chicken & Double-Smoked Bacon',\n",
       "       'Italian-Style Ham & Spicy Salami',\n",
       "       'Lentils & Vegetable Protein Bowl with Brown Rice',\n",
       "       'Roasted Tomato & Mozzarella Panini', 'Turkey & Havarti Sandwich',\n",
       "       'Turkey Pesto Panini', 'Berry Trio Yogurt',\n",
       "       'Fresh Blueberries and Honey Greek Yogurt Parfait',\n",
       "       \"Justin's Chocolate Hazelnut Butter\",\n",
       "       \"Justin's Classic Almond Butter\", 'Lemon Chiffon Yogurt',\n",
       "       'Organic Avocado (Spread)', 'Seasonal Fruit Blend'], dtype=object)"
      ]
     },
     "execution_count": 22,
     "metadata": {},
     "output_type": "execute_result"
    }
   ],
   "source": [
    "df['Name'].unique() "
   ]
  },
  {
   "cell_type": "code",
   "execution_count": 23,
   "metadata": {},
   "outputs": [
    {
     "data": {
      "text/plain": [
       "0      300\n",
       "1      380\n",
       "2      410\n",
       "3      460\n",
       "4      420\n",
       "      ... \n",
       "108    180\n",
       "109    190\n",
       "110    340\n",
       "111     90\n",
       "112     90\n",
       "Name:  Calories, Length: 113, dtype: int64"
      ]
     },
     "execution_count": 23,
     "metadata": {},
     "output_type": "execute_result"
    }
   ],
   "source": [
    "df[' Calories']"
   ]
  },
  {
   "cell_type": "code",
   "execution_count": null,
   "metadata": {},
   "outputs": [],
   "source": [
    "The data is discrete because of the numerical values."
   ]
  },
  {
   "cell_type": "code",
   "execution_count": 24,
   "metadata": {},
   "outputs": [
    {
     "data": {
      "text/plain": [
       "0       5.0\n",
       "1       6.0\n",
       "2      22.0\n",
       "3      23.0\n",
       "4      22.0\n",
       "       ... \n",
       "108    14.0\n",
       "109    18.0\n",
       "110    13.0\n",
       "111     8.0\n",
       "112     0.0\n",
       "Name:  Fat (g), Length: 113, dtype: float64"
      ]
     },
     "execution_count": 24,
     "metadata": {},
     "output_type": "execute_result"
    }
   ],
   "source": [
    "df[' Fat (g)']"
   ]
  },
  {
   "cell_type": "code",
   "execution_count": null,
   "metadata": {},
   "outputs": [],
   "source": [
    "The data is discrete because of the exact numerical values."
   ]
  },
  {
   "cell_type": "code",
   "execution_count": 25,
   "metadata": {},
   "outputs": [
    {
     "data": {
      "text/plain": [
       "0      50\n",
       "1      70\n",
       "2      45\n",
       "3      56\n",
       "4      52\n",
       "       ..\n",
       "108    12\n",
       "109     6\n",
       "110    38\n",
       "111     5\n",
       "112    24\n",
       "Name:  Carb. (g), Length: 113, dtype: int64"
      ]
     },
     "execution_count": 25,
     "metadata": {},
     "output_type": "execute_result"
    }
   ],
   "source": [
    "df[' Carb. (g)']"
   ]
  },
  {
   "cell_type": "code",
   "execution_count": null,
   "metadata": {},
   "outputs": [],
   "source": [
    "This data is also discrete."
   ]
  },
  {
   "cell_type": "code",
   "execution_count": 26,
   "metadata": {},
   "outputs": [
    {
     "data": {
      "text/plain": [
       "0      3\n",
       "1      7\n",
       "2      3\n",
       "3      2\n",
       "4      2\n",
       "      ..\n",
       "108    3\n",
       "109    3\n",
       "110    0\n",
       "111    4\n",
       "112    4\n",
       "Name:  Fiber (g), Length: 113, dtype: int64"
      ]
     },
     "execution_count": 26,
     "metadata": {},
     "output_type": "execute_result"
    }
   ],
   "source": [
    "df[' Fiber (g)']"
   ]
  },
  {
   "cell_type": "code",
   "execution_count": null,
   "metadata": {},
   "outputs": [],
   "source": [
    "The data is discrete."
   ]
  },
  {
   "cell_type": "code",
   "execution_count": 27,
   "metadata": {},
   "outputs": [
    {
     "data": {
      "text/plain": [
       "0      12\n",
       "1      10\n",
       "2      10\n",
       "3       7\n",
       "4       6\n",
       "       ..\n",
       "108     4\n",
       "109     7\n",
       "110    18\n",
       "111     1\n",
       "112     1\n",
       "Name:  Protein (g), Length: 113, dtype: int64"
      ]
     },
     "execution_count": 27,
     "metadata": {},
     "output_type": "execute_result"
    }
   ],
   "source": [
    "df[' Protein (g)']"
   ]
  },
  {
   "cell_type": "code",
   "execution_count": null,
   "metadata": {},
   "outputs": [],
   "source": [
    "The data is discrete."
   ]
  },
  {
   "cell_type": "code",
   "execution_count": 28,
   "metadata": {},
   "outputs": [
    {
     "data": {
      "text/plain": [
       "0                            Chonga Bagel\n",
       "1                            8-Grain Roll\n",
       "2                        Almond Croissant\n",
       "3                           Apple Fritter\n",
       "4                        Banana Nut Bread\n",
       "                      ...                \n",
       "108    Justin's Chocolate Hazelnut Butter\n",
       "109        Justin's Classic Almond Butter\n",
       "110                  Lemon Chiffon Yogurt\n",
       "111              Organic Avocado (Spread)\n",
       "112                  Seasonal Fruit Blend\n",
       "Name: Name, Length: 113, dtype: object"
      ]
     },
     "execution_count": 28,
     "metadata": {},
     "output_type": "execute_result"
    }
   ],
   "source": [
    "df['Name']"
   ]
  },
  {
   "cell_type": "code",
   "execution_count": null,
   "metadata": {},
   "outputs": [],
   "source": [
    "The data is nominal because the different butter and breads are divided in categories that are unordered."
   ]
  },
  {
   "cell_type": "code",
   "execution_count": 29,
   "metadata": {},
   "outputs": [
    {
     "data": {
      "text/plain": [
       "Name            0\n",
       " Calories       0\n",
       " Fat (g)        0\n",
       " Carb. (g)      0\n",
       " Fiber (g)      0\n",
       " Protein (g)    0\n",
       "dtype: int64"
      ]
     },
     "execution_count": 29,
     "metadata": {},
     "output_type": "execute_result"
    }
   ],
   "source": [
    "df.isnull().sum()"
   ]
  },
  {
   "cell_type": "code",
   "execution_count": null,
   "metadata": {},
   "outputs": [],
   "source": [
    "There are no null values present in this data set because all the categories are marked zero. Hence \n",
    "no data frame needs to be change to keep the values without any null values."
   ]
  },
  {
   "cell_type": "code",
   "execution_count": 30,
   "metadata": {},
   "outputs": [
    {
     "data": {
      "text/plain": [
       "Index(['Name', ' Calories', ' Fat (g)', ' Carb. (g)', ' Fiber (g)',\n",
       "       ' Protein (g)'],\n",
       "      dtype='object')"
      ]
     },
     "execution_count": 30,
     "metadata": {},
     "output_type": "execute_result"
    }
   ],
   "source": [
    "df.columns"
   ]
  },
  {
   "cell_type": "code",
   "execution_count": 40,
   "metadata": {},
   "outputs": [],
   "source": [
    "df_drop = df.drop(columns=[' Protein (g)'])"
   ]
  },
  {
   "cell_type": "code",
   "execution_count": 41,
   "metadata": {},
   "outputs": [
    {
     "data": {
      "text/plain": [
       "Index(['Name', ' Calories', ' Fat (g)', ' Carb. (g)', ' Fiber (g)'], dtype='object')"
      ]
     },
     "execution_count": 41,
     "metadata": {},
     "output_type": "execute_result"
    }
   ],
   "source": [
    "df_drop.columns"
   ]
  },
  {
   "cell_type": "code",
   "execution_count": 35,
   "metadata": {},
   "outputs": [],
   "source": [
    "df_drop = df.drop(columns=[' Fiber (g)'])"
   ]
  },
  {
   "cell_type": "code",
   "execution_count": 36,
   "metadata": {},
   "outputs": [
    {
     "data": {
      "text/plain": [
       "Index(['Name', ' Calories', ' Fat (g)', ' Carb. (g)', ' Protein (g)'], dtype='object')"
      ]
     },
     "execution_count": 36,
     "metadata": {},
     "output_type": "execute_result"
    }
   ],
   "source": [
    "df_drop.columns"
   ]
  },
  {
   "cell_type": "code",
   "execution_count": null,
   "metadata": {},
   "outputs": [],
   "source": [
    "As they are breads and butter , carbohydrates and fat are the main nutrients present in these foods.On the other \n",
    "protein and fiber is also present but only minimal amounts of it. Therefore ommitting the less important nutrients present \n",
    "in these foods make more sense. "
   ]
  },
  {
   "cell_type": "code",
   "execution_count": 46,
   "metadata": {},
   "outputs": [],
   "source": [
    "df_rename = df.rename(columns={'Name':'Breads'})"
   ]
  },
  {
   "cell_type": "code",
   "execution_count": 47,
   "metadata": {},
   "outputs": [
    {
     "data": {
      "text/plain": [
       "Index(['Breads', ' Calories', ' Fat (g)', ' Carb. (g)', ' Fiber (g)',\n",
       "       ' Protein (g)'],\n",
       "      dtype='object')"
      ]
     },
     "execution_count": 47,
     "metadata": {},
     "output_type": "execute_result"
    }
   ],
   "source": [
    "df_rename.columns"
   ]
  },
  {
   "cell_type": "code",
   "execution_count": 48,
   "metadata": {},
   "outputs": [],
   "source": [
    "df_rename = df.rename(columns={'Calories':'Energy'})"
   ]
  },
  {
   "cell_type": "code",
   "execution_count": 49,
   "metadata": {},
   "outputs": [
    {
     "data": {
      "text/plain": [
       "Index(['Name', ' Calories', ' Fat (g)', ' Carb. (g)', ' Fiber (g)',\n",
       "       ' Protein (g)'],\n",
       "      dtype='object')"
      ]
     },
     "execution_count": 49,
     "metadata": {},
     "output_type": "execute_result"
    }
   ],
   "source": [
    "df_rename.columns"
   ]
  },
  {
   "cell_type": "code",
   "execution_count": 50,
   "metadata": {},
   "outputs": [],
   "source": [
    "df_rename= df.rename(columns={' Protein (g)':'Bodybuilding'})"
   ]
  },
  {
   "cell_type": "code",
   "execution_count": 51,
   "metadata": {},
   "outputs": [
    {
     "data": {
      "text/plain": [
       "Index(['Name', ' Calories', ' Fat (g)', ' Carb. (g)', ' Fiber (g)',\n",
       "       'Bodybuilding'],\n",
       "      dtype='object')"
      ]
     },
     "execution_count": 51,
     "metadata": {},
     "output_type": "execute_result"
    }
   ],
   "source": [
    "df_rename.columns"
   ]
  },
  {
   "cell_type": "code",
   "execution_count": 54,
   "metadata": {},
   "outputs": [
    {
     "name": "stdout",
     "output_type": "stream",
     "text": [
      "                                   Name   Calories   Fat (g)   Carb. (g)  \\\n",
      "0                          Chonga Bagel        300       5.0          50   \n",
      "1                          8-Grain Roll        380       6.0          70   \n",
      "2                      Almond Croissant        410      22.0          45   \n",
      "3                         Apple Fritter        460      23.0          56   \n",
      "4                      Banana Nut Bread        420      22.0          52   \n",
      "..                                  ...        ...       ...         ...   \n",
      "108  Justin's Chocolate Hazelnut Butter        180      14.0          12   \n",
      "109      Justin's Classic Almond Butter        190      18.0           6   \n",
      "110                Lemon Chiffon Yogurt        340      13.0          38   \n",
      "111            Organic Avocado (Spread)         90       8.0           5   \n",
      "112                Seasonal Fruit Blend         90       0.0          24   \n",
      "\n",
      "      Fiber (g)   Protein (g)  \n",
      "0             3            12  \n",
      "1             7            10  \n",
      "2             3            10  \n",
      "3             2             7  \n",
      "4             2             6  \n",
      "..          ...           ...  \n",
      "108           3             4  \n",
      "109           3             7  \n",
      "110           0            18  \n",
      "111           4             1  \n",
      "112           4             1  \n",
      "\n",
      "[113 rows x 6 columns]\n"
     ]
    }
   ],
   "source": [
    "import csv\n",
    "import pandas as pd\n",
    "\n",
    "df = pd.read_csv('nutrition-food.csv', encoding='UTF-16')\n",
    "print(df)"
   ]
  },
  {
   "cell_type": "code",
   "execution_count": 55,
   "metadata": {},
   "outputs": [
    {
     "ename": "KeyError",
     "evalue": "' Calories '",
     "output_type": "error",
     "traceback": [
      "\u001b[0;31m---------------------------------------------------------------------------\u001b[0m",
      "\u001b[0;31mKeyError\u001b[0m                                  Traceback (most recent call last)",
      "File \u001b[0;32m~/miniconda3/envs/Animesh/lib/python3.9/site-packages/pandas/core/indexes/base.py:3805\u001b[0m, in \u001b[0;36mIndex.get_loc\u001b[0;34m(self, key)\u001b[0m\n\u001b[1;32m   3804\u001b[0m \u001b[38;5;28;01mtry\u001b[39;00m:\n\u001b[0;32m-> 3805\u001b[0m     \u001b[38;5;28;01mreturn\u001b[39;00m \u001b[38;5;28;43mself\u001b[39;49m\u001b[38;5;241;43m.\u001b[39;49m\u001b[43m_engine\u001b[49m\u001b[38;5;241;43m.\u001b[39;49m\u001b[43mget_loc\u001b[49m\u001b[43m(\u001b[49m\u001b[43mcasted_key\u001b[49m\u001b[43m)\u001b[49m\n\u001b[1;32m   3806\u001b[0m \u001b[38;5;28;01mexcept\u001b[39;00m \u001b[38;5;167;01mKeyError\u001b[39;00m \u001b[38;5;28;01mas\u001b[39;00m err:\n",
      "File \u001b[0;32mindex.pyx:167\u001b[0m, in \u001b[0;36mpandas._libs.index.IndexEngine.get_loc\u001b[0;34m()\u001b[0m\n",
      "File \u001b[0;32mindex.pyx:196\u001b[0m, in \u001b[0;36mpandas._libs.index.IndexEngine.get_loc\u001b[0;34m()\u001b[0m\n",
      "File \u001b[0;32mpandas/_libs/hashtable_class_helper.pxi:7081\u001b[0m, in \u001b[0;36mpandas._libs.hashtable.PyObjectHashTable.get_item\u001b[0;34m()\u001b[0m\n",
      "File \u001b[0;32mpandas/_libs/hashtable_class_helper.pxi:7089\u001b[0m, in \u001b[0;36mpandas._libs.hashtable.PyObjectHashTable.get_item\u001b[0;34m()\u001b[0m\n",
      "\u001b[0;31mKeyError\u001b[0m: ' Calories '",
      "\nThe above exception was the direct cause of the following exception:\n",
      "\u001b[0;31mKeyError\u001b[0m                                  Traceback (most recent call last)",
      "Cell \u001b[0;32mIn[55], line 1\u001b[0m\n\u001b[0;32m----> 1\u001b[0m df[\u001b[38;5;124m'\u001b[39m\u001b[38;5;124m Calories \u001b[39m\u001b[38;5;124m'\u001b[39m] \u001b[38;5;241m=\u001b[39m \u001b[43mdf\u001b[49m\u001b[43m[\u001b[49m\u001b[38;5;124;43m'\u001b[39;49m\u001b[38;5;124;43m Calories \u001b[39;49m\u001b[38;5;124;43m'\u001b[39;49m\u001b[43m]\u001b[49m\u001b[38;5;241m.\u001b[39mstr\u001b[38;5;241m.\u001b[39mreplace(\u001b[38;5;124m'\u001b[39m\u001b[38;5;124m-\u001b[39m\u001b[38;5;124m'\u001b[39m,\u001b[38;5;124m'\u001b[39m\u001b[38;5;124m1\u001b[39m\u001b[38;5;124m'\u001b[39m)\n\u001b[1;32m      2\u001b[0m df[\u001b[38;5;124m'\u001b[39m\u001b[38;5;124m Calories \u001b[39m\u001b[38;5;124m'\u001b[39m] \u001b[38;5;241m=\u001b[39m pd\u001b[38;5;241m.\u001b[39mto_numeric(df[\u001b[38;5;124m'\u001b[39m\u001b[38;5;124m Calories \u001b[39m\u001b[38;5;124m'\u001b[39m])\n\u001b[1;32m      3\u001b[0m column1_min \u001b[38;5;241m=\u001b[39m \u001b[38;5;28mfloat\u001b[39m(df[\u001b[38;5;124m'\u001b[39m\u001b[38;5;124m Calories \u001b[39m\u001b[38;5;124m'\u001b[39m]\u001b[38;5;241m.\u001b[39mmin())\n",
      "File \u001b[0;32m~/miniconda3/envs/Animesh/lib/python3.9/site-packages/pandas/core/frame.py:4102\u001b[0m, in \u001b[0;36mDataFrame.__getitem__\u001b[0;34m(self, key)\u001b[0m\n\u001b[1;32m   4100\u001b[0m \u001b[38;5;28;01mif\u001b[39;00m \u001b[38;5;28mself\u001b[39m\u001b[38;5;241m.\u001b[39mcolumns\u001b[38;5;241m.\u001b[39mnlevels \u001b[38;5;241m>\u001b[39m \u001b[38;5;241m1\u001b[39m:\n\u001b[1;32m   4101\u001b[0m     \u001b[38;5;28;01mreturn\u001b[39;00m \u001b[38;5;28mself\u001b[39m\u001b[38;5;241m.\u001b[39m_getitem_multilevel(key)\n\u001b[0;32m-> 4102\u001b[0m indexer \u001b[38;5;241m=\u001b[39m \u001b[38;5;28;43mself\u001b[39;49m\u001b[38;5;241;43m.\u001b[39;49m\u001b[43mcolumns\u001b[49m\u001b[38;5;241;43m.\u001b[39;49m\u001b[43mget_loc\u001b[49m\u001b[43m(\u001b[49m\u001b[43mkey\u001b[49m\u001b[43m)\u001b[49m\n\u001b[1;32m   4103\u001b[0m \u001b[38;5;28;01mif\u001b[39;00m is_integer(indexer):\n\u001b[1;32m   4104\u001b[0m     indexer \u001b[38;5;241m=\u001b[39m [indexer]\n",
      "File \u001b[0;32m~/miniconda3/envs/Animesh/lib/python3.9/site-packages/pandas/core/indexes/base.py:3812\u001b[0m, in \u001b[0;36mIndex.get_loc\u001b[0;34m(self, key)\u001b[0m\n\u001b[1;32m   3807\u001b[0m     \u001b[38;5;28;01mif\u001b[39;00m \u001b[38;5;28misinstance\u001b[39m(casted_key, \u001b[38;5;28mslice\u001b[39m) \u001b[38;5;129;01mor\u001b[39;00m (\n\u001b[1;32m   3808\u001b[0m         \u001b[38;5;28misinstance\u001b[39m(casted_key, abc\u001b[38;5;241m.\u001b[39mIterable)\n\u001b[1;32m   3809\u001b[0m         \u001b[38;5;129;01mand\u001b[39;00m \u001b[38;5;28many\u001b[39m(\u001b[38;5;28misinstance\u001b[39m(x, \u001b[38;5;28mslice\u001b[39m) \u001b[38;5;28;01mfor\u001b[39;00m x \u001b[38;5;129;01min\u001b[39;00m casted_key)\n\u001b[1;32m   3810\u001b[0m     ):\n\u001b[1;32m   3811\u001b[0m         \u001b[38;5;28;01mraise\u001b[39;00m InvalidIndexError(key)\n\u001b[0;32m-> 3812\u001b[0m     \u001b[38;5;28;01mraise\u001b[39;00m \u001b[38;5;167;01mKeyError\u001b[39;00m(key) \u001b[38;5;28;01mfrom\u001b[39;00m \u001b[38;5;21;01merr\u001b[39;00m\n\u001b[1;32m   3813\u001b[0m \u001b[38;5;28;01mexcept\u001b[39;00m \u001b[38;5;167;01mTypeError\u001b[39;00m:\n\u001b[1;32m   3814\u001b[0m     \u001b[38;5;66;03m# If we have a listlike key, _check_indexing_error will raise\u001b[39;00m\n\u001b[1;32m   3815\u001b[0m     \u001b[38;5;66;03m#  InvalidIndexError. Otherwise we fall through and re-raise\u001b[39;00m\n\u001b[1;32m   3816\u001b[0m     \u001b[38;5;66;03m#  the TypeError.\u001b[39;00m\n\u001b[1;32m   3817\u001b[0m     \u001b[38;5;28mself\u001b[39m\u001b[38;5;241m.\u001b[39m_check_indexing_error(key)\n",
      "\u001b[0;31mKeyError\u001b[0m: ' Calories '"
     ]
    }
   ],
   "source": [
    "df[' Calories '] = df[' Calories '].str.replace('-','1')\n",
    "df[' Calories '] = pd.to_numeric(df[' Calories '])\n",
    "column1_min = float(df[' Calories '].min())\n",
    "column1_max = float(df['Calories'].max())\n",
    "column1_mean = float(df['Calories '].mean())\n",
    "column1_std = float(df[' Calories '].std())\n",
    "column1_var = float(df[' Calories '].var())\n",
    "column1_sum = float(df[' Calories '].sum())\n",
    "print(\" Calories minimum = \" + str(column1_min))\n",
    "print(\" Calories  maximum = \" + str(column1_max))\n",
    "print(\" Calories mean = \" + str(column1_mean))\n",
    "print(\"Calories standard deviation = \" + str(column1_std))\n",
    "print(\" Calories  variance = \" + str(column1_var))\n",
    "print(\" Calories sum = \" + str(column1_sum))"
   ]
  },
  {
   "cell_type": "code",
   "execution_count": 56,
   "metadata": {},
   "outputs": [
    {
     "name": "stdout",
     "output_type": "stream",
     "text": [
      "Requirement already satisfied: matplotlib in /home/animesh/miniconda3/envs/Animesh/lib/python3.9/site-packages (3.9.0)\n",
      "Requirement already satisfied: contourpy>=1.0.1 in /home/animesh/miniconda3/envs/Animesh/lib/python3.9/site-packages (from matplotlib) (1.2.1)\n",
      "Requirement already satisfied: cycler>=0.10 in /home/animesh/miniconda3/envs/Animesh/lib/python3.9/site-packages (from matplotlib) (0.12.1)\n",
      "Requirement already satisfied: fonttools>=4.22.0 in /home/animesh/miniconda3/envs/Animesh/lib/python3.9/site-packages (from matplotlib) (4.53.0)\n",
      "Requirement already satisfied: kiwisolver>=1.3.1 in /home/animesh/miniconda3/envs/Animesh/lib/python3.9/site-packages (from matplotlib) (1.4.5)\n",
      "Requirement already satisfied: numpy>=1.23 in /home/animesh/miniconda3/envs/Animesh/lib/python3.9/site-packages (from matplotlib) (1.26.4)\n",
      "Requirement already satisfied: packaging>=20.0 in /home/animesh/miniconda3/envs/Animesh/lib/python3.9/site-packages (from matplotlib) (24.0)\n",
      "Requirement already satisfied: pillow>=8 in /home/animesh/miniconda3/envs/Animesh/lib/python3.9/site-packages (from matplotlib) (10.3.0)\n",
      "Requirement already satisfied: pyparsing>=2.3.1 in /home/animesh/miniconda3/envs/Animesh/lib/python3.9/site-packages (from matplotlib) (3.1.2)\n",
      "Requirement already satisfied: python-dateutil>=2.7 in /home/animesh/miniconda3/envs/Animesh/lib/python3.9/site-packages (from matplotlib) (2.9.0)\n",
      "Requirement already satisfied: importlib-resources>=3.2.0 in /home/animesh/miniconda3/envs/Animesh/lib/python3.9/site-packages (from matplotlib) (6.4.0)\n",
      "Requirement already satisfied: zipp>=3.1.0 in /home/animesh/miniconda3/envs/Animesh/lib/python3.9/site-packages (from importlib-resources>=3.2.0->matplotlib) (3.17.0)\n",
      "Requirement already satisfied: six>=1.5 in /home/animesh/miniconda3/envs/Animesh/lib/python3.9/site-packages (from python-dateutil>=2.7->matplotlib) (1.16.0)\n",
      "Requirement already satisfied: seaborn in /home/animesh/miniconda3/envs/Animesh/lib/python3.9/site-packages (0.13.2)\n",
      "Requirement already satisfied: numpy!=1.24.0,>=1.20 in /home/animesh/miniconda3/envs/Animesh/lib/python3.9/site-packages (from seaborn) (1.26.4)\n",
      "Requirement already satisfied: pandas>=1.2 in /home/animesh/miniconda3/envs/Animesh/lib/python3.9/site-packages (from seaborn) (2.2.2)\n",
      "Requirement already satisfied: matplotlib!=3.6.1,>=3.4 in /home/animesh/miniconda3/envs/Animesh/lib/python3.9/site-packages (from seaborn) (3.9.0)\n",
      "Requirement already satisfied: contourpy>=1.0.1 in /home/animesh/miniconda3/envs/Animesh/lib/python3.9/site-packages (from matplotlib!=3.6.1,>=3.4->seaborn) (1.2.1)\n",
      "Requirement already satisfied: cycler>=0.10 in /home/animesh/miniconda3/envs/Animesh/lib/python3.9/site-packages (from matplotlib!=3.6.1,>=3.4->seaborn) (0.12.1)\n",
      "Requirement already satisfied: fonttools>=4.22.0 in /home/animesh/miniconda3/envs/Animesh/lib/python3.9/site-packages (from matplotlib!=3.6.1,>=3.4->seaborn) (4.53.0)\n",
      "Requirement already satisfied: kiwisolver>=1.3.1 in /home/animesh/miniconda3/envs/Animesh/lib/python3.9/site-packages (from matplotlib!=3.6.1,>=3.4->seaborn) (1.4.5)\n",
      "Requirement already satisfied: packaging>=20.0 in /home/animesh/miniconda3/envs/Animesh/lib/python3.9/site-packages (from matplotlib!=3.6.1,>=3.4->seaborn) (24.0)\n",
      "Requirement already satisfied: pillow>=8 in /home/animesh/miniconda3/envs/Animesh/lib/python3.9/site-packages (from matplotlib!=3.6.1,>=3.4->seaborn) (10.3.0)\n",
      "Requirement already satisfied: pyparsing>=2.3.1 in /home/animesh/miniconda3/envs/Animesh/lib/python3.9/site-packages (from matplotlib!=3.6.1,>=3.4->seaborn) (3.1.2)\n",
      "Requirement already satisfied: python-dateutil>=2.7 in /home/animesh/miniconda3/envs/Animesh/lib/python3.9/site-packages (from matplotlib!=3.6.1,>=3.4->seaborn) (2.9.0)\n",
      "Requirement already satisfied: importlib-resources>=3.2.0 in /home/animesh/miniconda3/envs/Animesh/lib/python3.9/site-packages (from matplotlib!=3.6.1,>=3.4->seaborn) (6.4.0)\n",
      "Requirement already satisfied: pytz>=2020.1 in /home/animesh/miniconda3/envs/Animesh/lib/python3.9/site-packages (from pandas>=1.2->seaborn) (2024.1)\n",
      "Requirement already satisfied: tzdata>=2022.7 in /home/animesh/miniconda3/envs/Animesh/lib/python3.9/site-packages (from pandas>=1.2->seaborn) (2024.1)\n",
      "Requirement already satisfied: zipp>=3.1.0 in /home/animesh/miniconda3/envs/Animesh/lib/python3.9/site-packages (from importlib-resources>=3.2.0->matplotlib!=3.6.1,>=3.4->seaborn) (3.17.0)\n",
      "Requirement already satisfied: six>=1.5 in /home/animesh/miniconda3/envs/Animesh/lib/python3.9/site-packages (from python-dateutil>=2.7->matplotlib!=3.6.1,>=3.4->seaborn) (1.16.0)\n"
     ]
    }
   ],
   "source": [
    "!pip install matplotlib\n",
    "!pip install seaborn"
   ]
  },
  {
   "cell_type": "code",
   "execution_count": 57,
   "metadata": {},
   "outputs": [],
   "source": [
    "import matplotlib.pyplot as plt\n",
    "import seaborn as sns"
   ]
  },
  {
   "cell_type": "code",
   "execution_count": 58,
   "metadata": {},
   "outputs": [
    {
     "data": {
      "text/plain": [
       "(array([0., 1., 0.]),\n",
       " array([-0.5       , -0.16666667,  0.16666667,  0.5       ]),\n",
       " <BarContainer object of 3 artists>)"
      ]
     },
     "execution_count": 58,
     "metadata": {},
     "output_type": "execute_result"
    },
    {
     "data": {
      "image/png": "[encoded data removed]",
      "text/plain": [
       "<Figure size 640x480 with 1 Axes>"
      ]
     },
     "metadata": {},
     "output_type": "display_data"
    }
   ],
   "source": [
    "plt.hist('Calories', bins=3)"
   ]
  },
  {
   "cell_type": "code",
   "execution_count": 60,
   "metadata": {},
   "outputs": [
    {
     "data": {
      "text/plain": [
       "<Axes: >"
      ]
     },
     "execution_count": 60,
     "metadata": {},
     "output_type": "execute_result"
    },
    {
     "data": {
      "image/png": "[encoded data removed]",
      "text/plain": [
       "<Figure size 640x480 with 1 Axes>"
      ]
     },
     "metadata": {},
     "output_type": "display_data"
    }
   ],
   "source": [
    "sns.boxplot('Calories')"
   ]
  },
  {
   "cell_type": "code",
   "execution_count": 61,
   "metadata": {},
   "outputs": [
    {
     "data": {
      "text/plain": [
       "(array([0., 1., 0.]),\n",
       " array([-0.5       , -0.16666667,  0.16666667,  0.5       ]),\n",
       " <BarContainer object of 3 artists>)"
      ]
     },
     "execution_count": 61,
     "metadata": {},
     "output_type": "execute_result"
    },
    {
     "data": {
      "image/png": "[encoded data removed]",
      "text/plain": [
       "<Figure size 640x480 with 1 Axes>"
      ]
     },
     "metadata": {},
     "output_type": "display_data"
    }
   ],
   "source": [
    "plt.hist('Name', bins=3)"
   ]
  },
  {
   "cell_type": "code",
   "execution_count": 62,
   "metadata": {},
   "outputs": [
    {
     "data": {
      "text/plain": [
       "<Axes: >"
      ]
     },
     "execution_count": 62,
     "metadata": {},
     "output_type": "execute_result"
    },
    {
     "data": {
      "image/png": "[encoded data removed]",
      "text/plain": [
       "<Figure size 640x480 with 1 Axes>"
      ]
     },
     "metadata": {},
     "output_type": "display_data"
    }
   ],
   "source": [
    "sns.boxplot('Name')"
   ]
  },
  {
   "cell_type": "code",
   "execution_count": null,
   "metadata": {},
   "outputs": [],
   "source": []
  }
 ],
 "metadata": {
  "kernelspec": {
   "display_name": "Animesh",
   "language": "python",
   "name": "python3"
  },
  "language_info": {
   "codemirror_mode": {
    "name": "ipython",
    "version": 3
   },
   "file_extension": ".py",
   "mimetype": "text/x-python",
   "name": "python",
   "nbconvert_exporter": "python",
   "pygments_lexer": "ipython3",
   "version": "3.9.19"
  }
 },
 "nbformat": 4,
 "nbformat_minor": 2
}
